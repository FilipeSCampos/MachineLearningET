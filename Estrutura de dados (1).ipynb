{
 "cells": [
  {
   "cell_type": "code",
   "execution_count": 4,
   "id": "61317971",
   "metadata": {},
   "outputs": [],
   "source": [
    "import pandas as pd\n",
    "from sklearn.model_selection import train_test_split\n",
    "from sklearn.tree import DecisionTreeRegressor\n",
    "from sklearn.metrics import mean_squared_error\n",
    "from sklearn.tree import DecisionTreeClassifier, plot_tree,export_graphviz\n",
    "from sklearn import tree\n",
    "from sklearn.tree import export_text\n",
    "from sklearn.ensemble import RandomForestRegressor\n",
    "import matplotlib.pyplot as plt\n",
    "from xgboost import XGBRegressor"
   ]
  },
  {
   "cell_type": "markdown",
   "id": "b35a9319",
   "metadata": {},
   "source": [
    "### Lendo a base de dados\n"
   ]
  },
  {
   "cell_type": "code",
   "execution_count": 5,
   "id": "6545b8e0",
   "metadata": {
    "scrolled": true
   },
   "outputs": [
    {
     "data": {
      "text/html": [
       "<div>\n",
       "<style scoped>\n",
       "    .dataframe tbody tr th:only-of-type {\n",
       "        vertical-align: middle;\n",
       "    }\n",
       "\n",
       "    .dataframe tbody tr th {\n",
       "        vertical-align: top;\n",
       "    }\n",
       "\n",
       "    .dataframe thead th {\n",
       "        text-align: right;\n",
       "    }\n",
       "</style>\n",
       "<table border=\"1\" class=\"dataframe\">\n",
       "  <thead>\n",
       "    <tr style=\"text-align: right;\">\n",
       "      <th></th>\n",
       "      <th>Renda</th>\n",
       "      <th>Limite</th>\n",
       "      <th>Rating</th>\n",
       "      <th>Cartoes</th>\n",
       "      <th>Idade</th>\n",
       "      <th>Educacao</th>\n",
       "      <th>Sexo</th>\n",
       "      <th>Estudante</th>\n",
       "      <th>Casado</th>\n",
       "      <th>Etnia</th>\n",
       "      <th>Gasto Mensal</th>\n",
       "    </tr>\n",
       "  </thead>\n",
       "  <tbody>\n",
       "    <tr>\n",
       "      <th>0</th>\n",
       "      <td>14.891</td>\n",
       "      <td>3606</td>\n",
       "      <td>283</td>\n",
       "      <td>2</td>\n",
       "      <td>34</td>\n",
       "      <td>11</td>\n",
       "      <td>Male</td>\n",
       "      <td>No</td>\n",
       "      <td>Yes</td>\n",
       "      <td>Caucasian</td>\n",
       "      <td>333</td>\n",
       "    </tr>\n",
       "    <tr>\n",
       "      <th>1</th>\n",
       "      <td>106.025</td>\n",
       "      <td>6645</td>\n",
       "      <td>483</td>\n",
       "      <td>3</td>\n",
       "      <td>82</td>\n",
       "      <td>15</td>\n",
       "      <td>Female</td>\n",
       "      <td>Yes</td>\n",
       "      <td>Yes</td>\n",
       "      <td>Asian</td>\n",
       "      <td>903</td>\n",
       "    </tr>\n",
       "    <tr>\n",
       "      <th>2</th>\n",
       "      <td>104.593</td>\n",
       "      <td>7075</td>\n",
       "      <td>514</td>\n",
       "      <td>4</td>\n",
       "      <td>71</td>\n",
       "      <td>11</td>\n",
       "      <td>Male</td>\n",
       "      <td>No</td>\n",
       "      <td>No</td>\n",
       "      <td>Asian</td>\n",
       "      <td>580</td>\n",
       "    </tr>\n",
       "    <tr>\n",
       "      <th>3</th>\n",
       "      <td>148.924</td>\n",
       "      <td>9504</td>\n",
       "      <td>681</td>\n",
       "      <td>3</td>\n",
       "      <td>36</td>\n",
       "      <td>11</td>\n",
       "      <td>Female</td>\n",
       "      <td>No</td>\n",
       "      <td>No</td>\n",
       "      <td>Asian</td>\n",
       "      <td>964</td>\n",
       "    </tr>\n",
       "    <tr>\n",
       "      <th>4</th>\n",
       "      <td>55.882</td>\n",
       "      <td>4897</td>\n",
       "      <td>357</td>\n",
       "      <td>2</td>\n",
       "      <td>68</td>\n",
       "      <td>16</td>\n",
       "      <td>Male</td>\n",
       "      <td>No</td>\n",
       "      <td>Yes</td>\n",
       "      <td>Caucasian</td>\n",
       "      <td>331</td>\n",
       "    </tr>\n",
       "    <tr>\n",
       "      <th>...</th>\n",
       "      <td>...</td>\n",
       "      <td>...</td>\n",
       "      <td>...</td>\n",
       "      <td>...</td>\n",
       "      <td>...</td>\n",
       "      <td>...</td>\n",
       "      <td>...</td>\n",
       "      <td>...</td>\n",
       "      <td>...</td>\n",
       "      <td>...</td>\n",
       "      <td>...</td>\n",
       "    </tr>\n",
       "    <tr>\n",
       "      <th>395</th>\n",
       "      <td>12.096</td>\n",
       "      <td>4100</td>\n",
       "      <td>307</td>\n",
       "      <td>3</td>\n",
       "      <td>32</td>\n",
       "      <td>13</td>\n",
       "      <td>Male</td>\n",
       "      <td>No</td>\n",
       "      <td>Yes</td>\n",
       "      <td>Caucasian</td>\n",
       "      <td>560</td>\n",
       "    </tr>\n",
       "    <tr>\n",
       "      <th>396</th>\n",
       "      <td>13.364</td>\n",
       "      <td>3838</td>\n",
       "      <td>296</td>\n",
       "      <td>5</td>\n",
       "      <td>65</td>\n",
       "      <td>17</td>\n",
       "      <td>Male</td>\n",
       "      <td>No</td>\n",
       "      <td>No</td>\n",
       "      <td>African American</td>\n",
       "      <td>480</td>\n",
       "    </tr>\n",
       "    <tr>\n",
       "      <th>397</th>\n",
       "      <td>57.872</td>\n",
       "      <td>4171</td>\n",
       "      <td>321</td>\n",
       "      <td>5</td>\n",
       "      <td>67</td>\n",
       "      <td>12</td>\n",
       "      <td>Female</td>\n",
       "      <td>No</td>\n",
       "      <td>Yes</td>\n",
       "      <td>Caucasian</td>\n",
       "      <td>138</td>\n",
       "    </tr>\n",
       "    <tr>\n",
       "      <th>398</th>\n",
       "      <td>37.728</td>\n",
       "      <td>2525</td>\n",
       "      <td>192</td>\n",
       "      <td>1</td>\n",
       "      <td>44</td>\n",
       "      <td>13</td>\n",
       "      <td>Male</td>\n",
       "      <td>No</td>\n",
       "      <td>Yes</td>\n",
       "      <td>Caucasian</td>\n",
       "      <td>0</td>\n",
       "    </tr>\n",
       "    <tr>\n",
       "      <th>399</th>\n",
       "      <td>18.701</td>\n",
       "      <td>5524</td>\n",
       "      <td>415</td>\n",
       "      <td>5</td>\n",
       "      <td>64</td>\n",
       "      <td>7</td>\n",
       "      <td>Female</td>\n",
       "      <td>No</td>\n",
       "      <td>No</td>\n",
       "      <td>Asian</td>\n",
       "      <td>966</td>\n",
       "    </tr>\n",
       "  </tbody>\n",
       "</table>\n",
       "<p>400 rows × 11 columns</p>\n",
       "</div>"
      ],
      "text/plain": [
       "       Renda  Limite  Rating  Cartoes  Idade  Educacao    Sexo Estudante  \\\n",
       "0     14.891    3606     283        2     34        11    Male        No   \n",
       "1    106.025    6645     483        3     82        15  Female       Yes   \n",
       "2    104.593    7075     514        4     71        11    Male        No   \n",
       "3    148.924    9504     681        3     36        11  Female        No   \n",
       "4     55.882    4897     357        2     68        16    Male        No   \n",
       "..       ...     ...     ...      ...    ...       ...     ...       ...   \n",
       "395   12.096    4100     307        3     32        13    Male        No   \n",
       "396   13.364    3838     296        5     65        17    Male        No   \n",
       "397   57.872    4171     321        5     67        12  Female        No   \n",
       "398   37.728    2525     192        1     44        13    Male        No   \n",
       "399   18.701    5524     415        5     64         7  Female        No   \n",
       "\n",
       "    Casado             Etnia  Gasto Mensal  \n",
       "0      Yes         Caucasian           333  \n",
       "1      Yes             Asian           903  \n",
       "2       No             Asian           580  \n",
       "3       No             Asian           964  \n",
       "4      Yes         Caucasian           331  \n",
       "..     ...               ...           ...  \n",
       "395    Yes         Caucasian           560  \n",
       "396     No  African American           480  \n",
       "397    Yes         Caucasian           138  \n",
       "398    Yes         Caucasian             0  \n",
       "399     No             Asian           966  \n",
       "\n",
       "[400 rows x 11 columns]"
      ]
     },
     "metadata": {},
     "output_type": "display_data"
    }
   ],
   "source": [
    "dados = pd.read_excel('CCARDBALANCE.xlsx')\n",
    "dados = dados.drop('ID',axis = 1)\n",
    "display(dados)"
   ]
  },
  {
   "cell_type": "markdown",
   "id": "66458a29",
   "metadata": {},
   "source": [
    "### Corrigindo os valores de string para numeric"
   ]
  },
  {
   "cell_type": "code",
   "execution_count": 6,
   "id": "1bbfc19a",
   "metadata": {},
   "outputs": [],
   "source": [
    "dados['Estudante'] = dados['Estudante'].replace({'Yes': 1, 'No': 0})\n",
    "dados['Casado'] = dados['Casado'].replace({'Yes': 1, 'No': 0})\n",
    "dados['Etnia'] = dados['Etnia'].replace({'Caucasian': 0, 'Asian': 1,'African American' : 2})\n",
    "dados['Sexo'] = dados['Sexo'].replace({' Male':1,'Female':0})"
   ]
  },
  {
   "cell_type": "code",
   "execution_count": 7,
   "id": "2660ecf5",
   "metadata": {
    "scrolled": true
   },
   "outputs": [
    {
     "data": {
      "text/html": [
       "<div>\n",
       "<style scoped>\n",
       "    .dataframe tbody tr th:only-of-type {\n",
       "        vertical-align: middle;\n",
       "    }\n",
       "\n",
       "    .dataframe tbody tr th {\n",
       "        vertical-align: top;\n",
       "    }\n",
       "\n",
       "    .dataframe thead th {\n",
       "        text-align: right;\n",
       "    }\n",
       "</style>\n",
       "<table border=\"1\" class=\"dataframe\">\n",
       "  <thead>\n",
       "    <tr style=\"text-align: right;\">\n",
       "      <th></th>\n",
       "      <th>Renda</th>\n",
       "      <th>Limite</th>\n",
       "      <th>Rating</th>\n",
       "      <th>Cartoes</th>\n",
       "      <th>Idade</th>\n",
       "      <th>Educacao</th>\n",
       "      <th>Sexo</th>\n",
       "      <th>Estudante</th>\n",
       "      <th>Casado</th>\n",
       "      <th>Etnia</th>\n",
       "      <th>Gasto Mensal</th>\n",
       "    </tr>\n",
       "  </thead>\n",
       "  <tbody>\n",
       "    <tr>\n",
       "      <th>0</th>\n",
       "      <td>14.891</td>\n",
       "      <td>3606</td>\n",
       "      <td>283</td>\n",
       "      <td>2</td>\n",
       "      <td>34</td>\n",
       "      <td>11</td>\n",
       "      <td>1</td>\n",
       "      <td>0</td>\n",
       "      <td>1</td>\n",
       "      <td>0</td>\n",
       "      <td>333</td>\n",
       "    </tr>\n",
       "    <tr>\n",
       "      <th>1</th>\n",
       "      <td>106.025</td>\n",
       "      <td>6645</td>\n",
       "      <td>483</td>\n",
       "      <td>3</td>\n",
       "      <td>82</td>\n",
       "      <td>15</td>\n",
       "      <td>0</td>\n",
       "      <td>1</td>\n",
       "      <td>1</td>\n",
       "      <td>1</td>\n",
       "      <td>903</td>\n",
       "    </tr>\n",
       "    <tr>\n",
       "      <th>2</th>\n",
       "      <td>104.593</td>\n",
       "      <td>7075</td>\n",
       "      <td>514</td>\n",
       "      <td>4</td>\n",
       "      <td>71</td>\n",
       "      <td>11</td>\n",
       "      <td>1</td>\n",
       "      <td>0</td>\n",
       "      <td>0</td>\n",
       "      <td>1</td>\n",
       "      <td>580</td>\n",
       "    </tr>\n",
       "    <tr>\n",
       "      <th>3</th>\n",
       "      <td>148.924</td>\n",
       "      <td>9504</td>\n",
       "      <td>681</td>\n",
       "      <td>3</td>\n",
       "      <td>36</td>\n",
       "      <td>11</td>\n",
       "      <td>0</td>\n",
       "      <td>0</td>\n",
       "      <td>0</td>\n",
       "      <td>1</td>\n",
       "      <td>964</td>\n",
       "    </tr>\n",
       "    <tr>\n",
       "      <th>4</th>\n",
       "      <td>55.882</td>\n",
       "      <td>4897</td>\n",
       "      <td>357</td>\n",
       "      <td>2</td>\n",
       "      <td>68</td>\n",
       "      <td>16</td>\n",
       "      <td>1</td>\n",
       "      <td>0</td>\n",
       "      <td>1</td>\n",
       "      <td>0</td>\n",
       "      <td>331</td>\n",
       "    </tr>\n",
       "    <tr>\n",
       "      <th>...</th>\n",
       "      <td>...</td>\n",
       "      <td>...</td>\n",
       "      <td>...</td>\n",
       "      <td>...</td>\n",
       "      <td>...</td>\n",
       "      <td>...</td>\n",
       "      <td>...</td>\n",
       "      <td>...</td>\n",
       "      <td>...</td>\n",
       "      <td>...</td>\n",
       "      <td>...</td>\n",
       "    </tr>\n",
       "    <tr>\n",
       "      <th>395</th>\n",
       "      <td>12.096</td>\n",
       "      <td>4100</td>\n",
       "      <td>307</td>\n",
       "      <td>3</td>\n",
       "      <td>32</td>\n",
       "      <td>13</td>\n",
       "      <td>1</td>\n",
       "      <td>0</td>\n",
       "      <td>1</td>\n",
       "      <td>0</td>\n",
       "      <td>560</td>\n",
       "    </tr>\n",
       "    <tr>\n",
       "      <th>396</th>\n",
       "      <td>13.364</td>\n",
       "      <td>3838</td>\n",
       "      <td>296</td>\n",
       "      <td>5</td>\n",
       "      <td>65</td>\n",
       "      <td>17</td>\n",
       "      <td>1</td>\n",
       "      <td>0</td>\n",
       "      <td>0</td>\n",
       "      <td>2</td>\n",
       "      <td>480</td>\n",
       "    </tr>\n",
       "    <tr>\n",
       "      <th>397</th>\n",
       "      <td>57.872</td>\n",
       "      <td>4171</td>\n",
       "      <td>321</td>\n",
       "      <td>5</td>\n",
       "      <td>67</td>\n",
       "      <td>12</td>\n",
       "      <td>0</td>\n",
       "      <td>0</td>\n",
       "      <td>1</td>\n",
       "      <td>0</td>\n",
       "      <td>138</td>\n",
       "    </tr>\n",
       "    <tr>\n",
       "      <th>398</th>\n",
       "      <td>37.728</td>\n",
       "      <td>2525</td>\n",
       "      <td>192</td>\n",
       "      <td>1</td>\n",
       "      <td>44</td>\n",
       "      <td>13</td>\n",
       "      <td>1</td>\n",
       "      <td>0</td>\n",
       "      <td>1</td>\n",
       "      <td>0</td>\n",
       "      <td>0</td>\n",
       "    </tr>\n",
       "    <tr>\n",
       "      <th>399</th>\n",
       "      <td>18.701</td>\n",
       "      <td>5524</td>\n",
       "      <td>415</td>\n",
       "      <td>5</td>\n",
       "      <td>64</td>\n",
       "      <td>7</td>\n",
       "      <td>0</td>\n",
       "      <td>0</td>\n",
       "      <td>0</td>\n",
       "      <td>1</td>\n",
       "      <td>966</td>\n",
       "    </tr>\n",
       "  </tbody>\n",
       "</table>\n",
       "<p>400 rows × 11 columns</p>\n",
       "</div>"
      ],
      "text/plain": [
       "       Renda  Limite  Rating  Cartoes  Idade  Educacao  Sexo  Estudante  \\\n",
       "0     14.891    3606     283        2     34        11     1          0   \n",
       "1    106.025    6645     483        3     82        15     0          1   \n",
       "2    104.593    7075     514        4     71        11     1          0   \n",
       "3    148.924    9504     681        3     36        11     0          0   \n",
       "4     55.882    4897     357        2     68        16     1          0   \n",
       "..       ...     ...     ...      ...    ...       ...   ...        ...   \n",
       "395   12.096    4100     307        3     32        13     1          0   \n",
       "396   13.364    3838     296        5     65        17     1          0   \n",
       "397   57.872    4171     321        5     67        12     0          0   \n",
       "398   37.728    2525     192        1     44        13     1          0   \n",
       "399   18.701    5524     415        5     64         7     0          0   \n",
       "\n",
       "     Casado  Etnia  Gasto Mensal  \n",
       "0         1      0           333  \n",
       "1         1      1           903  \n",
       "2         0      1           580  \n",
       "3         0      1           964  \n",
       "4         1      0           331  \n",
       "..      ...    ...           ...  \n",
       "395       1      0           560  \n",
       "396       0      2           480  \n",
       "397       1      0           138  \n",
       "398       1      0             0  \n",
       "399       0      1           966  \n",
       "\n",
       "[400 rows x 11 columns]"
      ]
     },
     "metadata": {},
     "output_type": "display_data"
    }
   ],
   "source": [
    "display(dados)"
   ]
  },
  {
   "cell_type": "markdown",
   "id": "84418c7b",
   "metadata": {},
   "source": [
    "### Usando o primeiro modelo, Arvore de decisão, separando as variaveis X do target y, o target é a variavel que a gente quer prever"
   ]
  },
  {
   "cell_type": "code",
   "execution_count": 8,
   "id": "3e781c02",
   "metadata": {},
   "outputs": [],
   "source": [
    "X = dados.drop('Gasto Mensal', axis = 1)\n",
    "y = dados['Gasto Mensal']\n",
    "X_train, X_test, y_train, y_test = train_test_split(X,y, test_size=0.25, random_state=0)\n",
    "modelo = DecisionTreeRegressor()\n",
    "modelo.fit(X_train,y_train)\n",
    "y_pred = modelo.predict(X_test)"
   ]
  },
  {
   "cell_type": "markdown",
   "id": "18c4c764",
   "metadata": {},
   "source": [
    "### Não sei porque o R^2 deu tão alto, na minha cabeça ele variava de 0 a 1 "
   ]
  },
  {
   "cell_type": "code",
   "execution_count": 9,
   "id": "d257f60d",
   "metadata": {
    "scrolled": false
   },
   "outputs": [
    {
     "name": "stdout",
     "output_type": "stream",
     "text": [
      "RMSE: 142.3166539797785\n"
     ]
    }
   ],
   "source": [
    "rmse = mean_squared_error(y_test, y_pred, squared=False)\n",
    "print('RMSE:', rmse)"
   ]
  },
  {
   "cell_type": "markdown",
   "id": "26fd2ab3",
   "metadata": {},
   "source": [
    "# Teste"
   ]
  },
  {
   "cell_type": "code",
   "execution_count": 69,
   "id": "d421f098",
   "metadata": {
    "scrolled": true
   },
   "outputs": [
    {
     "data": {
      "text/html": [
       "<div>\n",
       "<style scoped>\n",
       "    .dataframe tbody tr th:only-of-type {\n",
       "        vertical-align: middle;\n",
       "    }\n",
       "\n",
       "    .dataframe tbody tr th {\n",
       "        vertical-align: top;\n",
       "    }\n",
       "\n",
       "    .dataframe thead th {\n",
       "        text-align: right;\n",
       "    }\n",
       "</style>\n",
       "<table border=\"1\" class=\"dataframe\">\n",
       "  <thead>\n",
       "    <tr style=\"text-align: right;\">\n",
       "      <th></th>\n",
       "      <th>Renda</th>\n",
       "      <th>Limite</th>\n",
       "      <th>Rating</th>\n",
       "      <th>Cartoes</th>\n",
       "      <th>Idade</th>\n",
       "      <th>Educacao</th>\n",
       "      <th>Sexo</th>\n",
       "      <th>Estudante</th>\n",
       "      <th>Casado</th>\n",
       "      <th>Etnia</th>\n",
       "    </tr>\n",
       "  </thead>\n",
       "  <tbody>\n",
       "    <tr>\n",
       "      <th>0</th>\n",
       "      <td>30.0</td>\n",
       "      <td>1000</td>\n",
       "      <td>750</td>\n",
       "      <td>1</td>\n",
       "      <td>23</td>\n",
       "      <td>17</td>\n",
       "      <td>1</td>\n",
       "      <td>1</td>\n",
       "      <td>0</td>\n",
       "      <td>1</td>\n",
       "    </tr>\n",
       "  </tbody>\n",
       "</table>\n",
       "</div>"
      ],
      "text/plain": [
       "   Renda  Limite  Rating  Cartoes  Idade  Educacao  Sexo  Estudante  Casado  \\\n",
       "0   30.0    1000     750        1     23        17     1          1       0   \n",
       "\n",
       "   Etnia  \n",
       "0      1  "
      ]
     },
     "metadata": {},
     "output_type": "display_data"
    },
    {
     "name": "stdout",
     "output_type": "stream",
     "text": [
      "[1216.]\n"
     ]
    }
   ],
   "source": [
    "teste = {'Renda':13.200 ,'Limite':800,'Rating':600,'Cartoes':1,'Idade':20,'Educacao':17,'Sexo':1,'Estudante':1,'Casado':0,'Etnia':1}\n",
    "teste_df = pd.DataFrame(data = teste, index=[0])\n",
    "display(teste_df)\n",
    "previsao = modelo.predict(teste_df)\n",
    "print(previsao)"
   ]
  },
  {
   "cell_type": "markdown",
   "id": "6022b131",
   "metadata": {},
   "source": [
    "### Quão importante é cada característica para o quanto de gasto mensal a pessoa vai ter, aqui podemos ver que etnia não faz a menor diferença."
   ]
  },
  {
   "cell_type": "code",
   "execution_count": 62,
   "id": "89c6d78e",
   "metadata": {
    "scrolled": true
   },
   "outputs": [
    {
     "name": "stdout",
     "output_type": "stream",
     "text": [
      "Renda 0.08122318224923296\n",
      "Limite 0.26131801162132146\n",
      "Rating 0.5854522832294905\n",
      "Cartoes 0.002886399261461944\n",
      "Idade 0.00784504587041282\n",
      "Educacao 0.004145978853957303\n",
      "Sexo 0.0005599723663750662\n",
      "Estudante 0.05251030739099163\n",
      "Casado 0.0018333813028423769\n",
      "Etnia 0.002225437853914011\n",
      "Acurácia:  0.9846272830224966\n"
     ]
    }
   ],
   "source": [
    "# Importância das características\n",
    "importancias = modelo.feature_importances_\n",
    "nomes_features = X.columns\n",
    "\n",
    "# Imprimir importância das características\n",
    "for feature, importancia in zip(nomes_features, importancias):\n",
    "    print(feature, importancia)\n",
    "print(\"Acurácia: \", modelo.score(X, y))"
   ]
  },
  {
   "cell_type": "markdown",
   "id": "ebca3621",
   "metadata": {},
   "source": [
    "### Pra ver o grafico que o professor fez, tenho que cortar ele um pouco ainda."
   ]
  },
  {
   "cell_type": "code",
   "execution_count": null,
   "id": "476b13ee",
   "metadata": {},
   "outputs": [],
   "source": [
    "#Numero de folhas\n",
    "#print(\"Número de Folhas: \", modelo.get_n_leaves())\n",
    "\n",
    "#Profundidade\n",
    "#print(\"Profundidade: \",modelo.get_depth())\n",
    "\n",
    "#Obtem os parametros repassados. Nesse caso, por exemplo\n",
    "\n",
    " \n",
    "#plotando a arvore de decisão com a função padrão do sklearn\n",
    "#plt.figure( figsize=(7,7),dpi=250)\n",
    "#plot_tree(modelo,feature_names=['Renda', 'Limite', 'Rating', 'Cartoes', 'Idade', 'Educacao', 'Sexo',\n",
    "#       'Estudante', 'Casado', 'Etnia'],  \n",
    "#                      class_names=['Gasto Mensal'],\n",
    "#                      filled=True, rounded=True,fontsize=5.0\n",
    "#                   )\n",
    "#plt.show()"
   ]
  },
  {
   "cell_type": "markdown",
   "id": "1bf6b613",
   "metadata": {},
   "source": [
    "### Utilizando RandomForest"
   ]
  },
  {
   "cell_type": "code",
   "execution_count": 70,
   "id": "7903d872",
   "metadata": {},
   "outputs": [],
   "source": [
    "X_train, X_test, y_train, y_test = train_test_split(X,y,test_size=0.25, random_state=0)\n",
    "modelo = RandomForestRegressor()\n",
    "modelo.fit(X_train,y_train)\n",
    "y_pred = modelo.predict(X_test)"
   ]
  },
  {
   "cell_type": "code",
   "execution_count": 71,
   "id": "7ee72854",
   "metadata": {},
   "outputs": [
    {
     "name": "stdout",
     "output_type": "stream",
     "text": [
      "[1073.85]\n"
     ]
    }
   ],
   "source": [
    "resultado = modelo.predict(teste_df)\n",
    "print(resultado)"
   ]
  },
  {
   "cell_type": "markdown",
   "id": "6783ac4e",
   "metadata": {},
   "source": [
    "### R^2 menor, eu tambem não sei porque"
   ]
  },
  {
   "cell_type": "code",
   "execution_count": 30,
   "id": "62551936",
   "metadata": {
    "scrolled": false
   },
   "outputs": [
    {
     "name": "stdout",
     "output_type": "stream",
     "text": [
      "RMSE: 90.3015022577144\n"
     ]
    }
   ],
   "source": [
    "rmse = mean_squared_error(y_test, y_pred, squared=False)\n",
    "print('RMSE:', rmse)"
   ]
  },
  {
   "cell_type": "markdown",
   "id": "79599aee",
   "metadata": {},
   "source": [
    "### Features do RandomForest são mais aprimoradas e a acurácia esta bem mais alta, o que pode ser ruim já que eu não tenho ideia se eu treinei o modelo do jeito certo."
   ]
  },
  {
   "cell_type": "code",
   "execution_count": 63,
   "id": "fb143669",
   "metadata": {
    "scrolled": false
   },
   "outputs": [
    {
     "name": "stdout",
     "output_type": "stream",
     "text": [
      "Renda 0.08122318224923296\n",
      "Limite 0.26131801162132146\n",
      "Rating 0.5854522832294905\n",
      "Cartoes 0.002886399261461944\n",
      "Idade 0.00784504587041282\n",
      "Educacao 0.004145978853957303\n",
      "Sexo 0.0005599723663750662\n",
      "Estudante 0.05251030739099163\n",
      "Casado 0.0018333813028423769\n",
      "Etnia 0.002225437853914011\n",
      "Acurácia:  0.9846272830224966\n"
     ]
    }
   ],
   "source": [
    "# Importância das características\n",
    "importancias = modelo.feature_importances_\n",
    "nomes_features = X.columns\n",
    "\n",
    "# Imprimir importância das características\n",
    "for feature, importancia in zip(nomes_features, importancias):\n",
    "    print(feature, importancia)\n",
    "print(\"Acurácia: \", modelo.score(X, y))"
   ]
  },
  {
   "cell_type": "markdown",
   "id": "518dddc1",
   "metadata": {},
   "source": [
    "### Usando XGBoost."
   ]
  },
  {
   "cell_type": "code",
   "execution_count": 72,
   "id": "7a8b7b3a",
   "metadata": {},
   "outputs": [],
   "source": [
    "X_train, X_test, y_train, y_test = train_test_split(X,y,test_size=0.25, random_state=0)\n",
    "modelo = XGBRegressor()\n",
    "modelo.fit(X_train,y_train)\n",
    "y_pred = modelo.predict(X_test)"
   ]
  },
  {
   "cell_type": "code",
   "execution_count": 74,
   "id": "07a5e9c8",
   "metadata": {},
   "outputs": [
    {
     "name": "stdout",
     "output_type": "stream",
     "text": [
      "[795.0564]\n"
     ]
    }
   ],
   "source": [
    "resultado = modelo.predict(teste_df)\n",
    "print(resultado)"
   ]
  },
  {
   "cell_type": "code",
   "execution_count": 33,
   "id": "5111961f",
   "metadata": {
    "scrolled": false
   },
   "outputs": [
    {
     "name": "stdout",
     "output_type": "stream",
     "text": [
      "RMSE: 78.7833349922023\n"
     ]
    }
   ],
   "source": [
    "rmse = mean_squared_error(y_test, y_pred, squared=False)\n",
    "print('RMSE:', rmse)"
   ]
  },
  {
   "cell_type": "markdown",
   "id": "9b3a9c90",
   "metadata": {},
   "source": [
    "### Acurácia de quase 100%."
   ]
  },
  {
   "cell_type": "code",
   "execution_count": 66,
   "id": "f9780fc6",
   "metadata": {},
   "outputs": [
    {
     "name": "stdout",
     "output_type": "stream",
     "text": [
      "Renda 0.026520869\n",
      "Limite 0.09002677\n",
      "Rating 0.66081244\n",
      "Cartoes 0.0019851765\n",
      "Idade 0.002206139\n",
      "Educacao 0.0015670513\n",
      "Sexo 0.001480999\n",
      "Estudante 0.21272369\n",
      "Casado 0.001795675\n",
      "Etnia 0.00088117406\n",
      "Acurácia:  0.9926405812620638\n"
     ]
    }
   ],
   "source": [
    "# Importância das características\n",
    "importancias = modelo.feature_importances_\n",
    "nomes_features = X.columns\n",
    "\n",
    "# Imprimir importância das características\n",
    "for feature, importancia in zip(nomes_features, importancias):\n",
    "    print(feature, importancia)\n",
    "print(\"Acurácia: \", modelo.score(X, y))"
   ]
  }
 ],
 "metadata": {
  "kernelspec": {
   "display_name": "Python 3 (ipykernel)",
   "language": "python",
   "name": "python3"
  },
  "language_info": {
   "codemirror_mode": {
    "name": "ipython",
    "version": 3
   },
   "file_extension": ".py",
   "mimetype": "text/x-python",
   "name": "python",
   "nbconvert_exporter": "python",
   "pygments_lexer": "ipython3",
   "version": "3.10.9"
  }
 },
 "nbformat": 4,
 "nbformat_minor": 5
}
