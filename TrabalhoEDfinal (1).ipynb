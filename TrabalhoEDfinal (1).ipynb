{
 "cells": [
  {
   "cell_type": "code",
   "execution_count": 141,
   "id": "61317971",
   "metadata": {
    "scrolled": true
   },
   "outputs": [],
   "source": [
    "import pandas as pd\n",
    "from sklearn.model_selection import train_test_split\n",
    "from sklearn.tree import DecisionTreeRegressor\n",
    "from sklearn.metrics import mean_squared_error\n",
    "from sklearn.tree import DecisionTreeClassifier, plot_tree,export_graphviz\n",
    "from sklearn import tree\n",
    "from sklearn.tree import export_text\n",
    "from sklearn.ensemble import RandomForestRegressor\n",
    "import matplotlib.pyplot as plt"
   ]
  },
  {
   "cell_type": "markdown",
   "id": "b35a9319",
   "metadata": {},
   "source": [
    "### Lendo a base de dados\n"
   ]
  },
  {
   "cell_type": "code",
   "execution_count": 142,
   "id": "6545b8e0",
   "metadata": {
    "scrolled": true
   },
   "outputs": [
    {
     "data": {
      "text/html": [
       "<div>\n",
       "<style scoped>\n",
       "    .dataframe tbody tr th:only-of-type {\n",
       "        vertical-align: middle;\n",
       "    }\n",
       "\n",
       "    .dataframe tbody tr th {\n",
       "        vertical-align: top;\n",
       "    }\n",
       "\n",
       "    .dataframe thead th {\n",
       "        text-align: right;\n",
       "    }\n",
       "</style>\n",
       "<table border=\"1\" class=\"dataframe\">\n",
       "  <thead>\n",
       "    <tr style=\"text-align: right;\">\n",
       "      <th></th>\n",
       "      <th>Renda</th>\n",
       "      <th>Limite</th>\n",
       "      <th>Rating</th>\n",
       "      <th>Cartoes</th>\n",
       "      <th>Idade</th>\n",
       "      <th>Educacao</th>\n",
       "      <th>Sexo</th>\n",
       "      <th>Estudante</th>\n",
       "      <th>Casado</th>\n",
       "      <th>Etnia</th>\n",
       "      <th>Gasto Mensal</th>\n",
       "    </tr>\n",
       "  </thead>\n",
       "  <tbody>\n",
       "    <tr>\n",
       "      <th>0</th>\n",
       "      <td>14.891</td>\n",
       "      <td>3606</td>\n",
       "      <td>283</td>\n",
       "      <td>2</td>\n",
       "      <td>34</td>\n",
       "      <td>11</td>\n",
       "      <td>Male</td>\n",
       "      <td>No</td>\n",
       "      <td>Yes</td>\n",
       "      <td>Caucasian</td>\n",
       "      <td>333</td>\n",
       "    </tr>\n",
       "    <tr>\n",
       "      <th>1</th>\n",
       "      <td>106.025</td>\n",
       "      <td>6645</td>\n",
       "      <td>483</td>\n",
       "      <td>3</td>\n",
       "      <td>82</td>\n",
       "      <td>15</td>\n",
       "      <td>Female</td>\n",
       "      <td>Yes</td>\n",
       "      <td>Yes</td>\n",
       "      <td>Asian</td>\n",
       "      <td>903</td>\n",
       "    </tr>\n",
       "    <tr>\n",
       "      <th>2</th>\n",
       "      <td>104.593</td>\n",
       "      <td>7075</td>\n",
       "      <td>514</td>\n",
       "      <td>4</td>\n",
       "      <td>71</td>\n",
       "      <td>11</td>\n",
       "      <td>Male</td>\n",
       "      <td>No</td>\n",
       "      <td>No</td>\n",
       "      <td>Asian</td>\n",
       "      <td>580</td>\n",
       "    </tr>\n",
       "    <tr>\n",
       "      <th>3</th>\n",
       "      <td>148.924</td>\n",
       "      <td>9504</td>\n",
       "      <td>681</td>\n",
       "      <td>3</td>\n",
       "      <td>36</td>\n",
       "      <td>11</td>\n",
       "      <td>Female</td>\n",
       "      <td>No</td>\n",
       "      <td>No</td>\n",
       "      <td>Asian</td>\n",
       "      <td>964</td>\n",
       "    </tr>\n",
       "    <tr>\n",
       "      <th>4</th>\n",
       "      <td>55.882</td>\n",
       "      <td>4897</td>\n",
       "      <td>357</td>\n",
       "      <td>2</td>\n",
       "      <td>68</td>\n",
       "      <td>16</td>\n",
       "      <td>Male</td>\n",
       "      <td>No</td>\n",
       "      <td>Yes</td>\n",
       "      <td>Caucasian</td>\n",
       "      <td>331</td>\n",
       "    </tr>\n",
       "    <tr>\n",
       "      <th>...</th>\n",
       "      <td>...</td>\n",
       "      <td>...</td>\n",
       "      <td>...</td>\n",
       "      <td>...</td>\n",
       "      <td>...</td>\n",
       "      <td>...</td>\n",
       "      <td>...</td>\n",
       "      <td>...</td>\n",
       "      <td>...</td>\n",
       "      <td>...</td>\n",
       "      <td>...</td>\n",
       "    </tr>\n",
       "    <tr>\n",
       "      <th>395</th>\n",
       "      <td>12.096</td>\n",
       "      <td>4100</td>\n",
       "      <td>307</td>\n",
       "      <td>3</td>\n",
       "      <td>32</td>\n",
       "      <td>13</td>\n",
       "      <td>Male</td>\n",
       "      <td>No</td>\n",
       "      <td>Yes</td>\n",
       "      <td>Caucasian</td>\n",
       "      <td>560</td>\n",
       "    </tr>\n",
       "    <tr>\n",
       "      <th>396</th>\n",
       "      <td>13.364</td>\n",
       "      <td>3838</td>\n",
       "      <td>296</td>\n",
       "      <td>5</td>\n",
       "      <td>65</td>\n",
       "      <td>17</td>\n",
       "      <td>Male</td>\n",
       "      <td>No</td>\n",
       "      <td>No</td>\n",
       "      <td>African American</td>\n",
       "      <td>480</td>\n",
       "    </tr>\n",
       "    <tr>\n",
       "      <th>397</th>\n",
       "      <td>57.872</td>\n",
       "      <td>4171</td>\n",
       "      <td>321</td>\n",
       "      <td>5</td>\n",
       "      <td>67</td>\n",
       "      <td>12</td>\n",
       "      <td>Female</td>\n",
       "      <td>No</td>\n",
       "      <td>Yes</td>\n",
       "      <td>Caucasian</td>\n",
       "      <td>138</td>\n",
       "    </tr>\n",
       "    <tr>\n",
       "      <th>398</th>\n",
       "      <td>37.728</td>\n",
       "      <td>2525</td>\n",
       "      <td>192</td>\n",
       "      <td>1</td>\n",
       "      <td>44</td>\n",
       "      <td>13</td>\n",
       "      <td>Male</td>\n",
       "      <td>No</td>\n",
       "      <td>Yes</td>\n",
       "      <td>Caucasian</td>\n",
       "      <td>0</td>\n",
       "    </tr>\n",
       "    <tr>\n",
       "      <th>399</th>\n",
       "      <td>18.701</td>\n",
       "      <td>5524</td>\n",
       "      <td>415</td>\n",
       "      <td>5</td>\n",
       "      <td>64</td>\n",
       "      <td>7</td>\n",
       "      <td>Female</td>\n",
       "      <td>No</td>\n",
       "      <td>No</td>\n",
       "      <td>Asian</td>\n",
       "      <td>966</td>\n",
       "    </tr>\n",
       "  </tbody>\n",
       "</table>\n",
       "<p>400 rows × 11 columns</p>\n",
       "</div>"
      ],
      "text/plain": [
       "       Renda  Limite  Rating  Cartoes  Idade  Educacao    Sexo Estudante  \\\n",
       "0     14.891    3606     283        2     34        11    Male        No   \n",
       "1    106.025    6645     483        3     82        15  Female       Yes   \n",
       "2    104.593    7075     514        4     71        11    Male        No   \n",
       "3    148.924    9504     681        3     36        11  Female        No   \n",
       "4     55.882    4897     357        2     68        16    Male        No   \n",
       "..       ...     ...     ...      ...    ...       ...     ...       ...   \n",
       "395   12.096    4100     307        3     32        13    Male        No   \n",
       "396   13.364    3838     296        5     65        17    Male        No   \n",
       "397   57.872    4171     321        5     67        12  Female        No   \n",
       "398   37.728    2525     192        1     44        13    Male        No   \n",
       "399   18.701    5524     415        5     64         7  Female        No   \n",
       "\n",
       "    Casado             Etnia  Gasto Mensal  \n",
       "0      Yes         Caucasian           333  \n",
       "1      Yes             Asian           903  \n",
       "2       No             Asian           580  \n",
       "3       No             Asian           964  \n",
       "4      Yes         Caucasian           331  \n",
       "..     ...               ...           ...  \n",
       "395    Yes         Caucasian           560  \n",
       "396     No  African American           480  \n",
       "397    Yes         Caucasian           138  \n",
       "398    Yes         Caucasian             0  \n",
       "399     No             Asian           966  \n",
       "\n",
       "[400 rows x 11 columns]"
      ]
     },
     "metadata": {},
     "output_type": "display_data"
    }
   ],
   "source": [
    "dados = pd.read_excel('CCARDBALANCE.xlsx')\n",
    "dados = dados.drop('ID',axis = 1)\n",
    "display(dados)"
   ]
  },
  {
   "cell_type": "markdown",
   "id": "66458a29",
   "metadata": {},
   "source": [
    "### Corrigindo os valores de string para numeric"
   ]
  },
  {
   "cell_type": "code",
   "execution_count": 143,
   "id": "1bbfc19a",
   "metadata": {},
   "outputs": [],
   "source": [
    "dados['Estudante'] = dados['Estudante'].replace({'Yes': 1, 'No': 0})\n",
    "dados['Casado'] = dados['Casado'].replace({'Yes': 1, 'No': 0})\n",
    "dados['Etnia'] = dados['Etnia'].replace({'Caucasian': 0, 'Asian': 1,'African American' : 2})\n",
    "dados['Sexo'] = dados['Sexo'].replace({' Male':1,'Female':0})"
   ]
  },
  {
   "cell_type": "code",
   "execution_count": 144,
   "id": "2660ecf5",
   "metadata": {
    "scrolled": false
   },
   "outputs": [
    {
     "data": {
      "text/html": [
       "<div>\n",
       "<style scoped>\n",
       "    .dataframe tbody tr th:only-of-type {\n",
       "        vertical-align: middle;\n",
       "    }\n",
       "\n",
       "    .dataframe tbody tr th {\n",
       "        vertical-align: top;\n",
       "    }\n",
       "\n",
       "    .dataframe thead th {\n",
       "        text-align: right;\n",
       "    }\n",
       "</style>\n",
       "<table border=\"1\" class=\"dataframe\">\n",
       "  <thead>\n",
       "    <tr style=\"text-align: right;\">\n",
       "      <th></th>\n",
       "      <th>Renda</th>\n",
       "      <th>Limite</th>\n",
       "      <th>Rating</th>\n",
       "      <th>Cartoes</th>\n",
       "      <th>Idade</th>\n",
       "      <th>Educacao</th>\n",
       "      <th>Sexo</th>\n",
       "      <th>Estudante</th>\n",
       "      <th>Casado</th>\n",
       "      <th>Etnia</th>\n",
       "      <th>Gasto Mensal</th>\n",
       "    </tr>\n",
       "  </thead>\n",
       "  <tbody>\n",
       "    <tr>\n",
       "      <th>0</th>\n",
       "      <td>14.891</td>\n",
       "      <td>3606</td>\n",
       "      <td>283</td>\n",
       "      <td>2</td>\n",
       "      <td>34</td>\n",
       "      <td>11</td>\n",
       "      <td>1</td>\n",
       "      <td>0</td>\n",
       "      <td>1</td>\n",
       "      <td>0</td>\n",
       "      <td>333</td>\n",
       "    </tr>\n",
       "    <tr>\n",
       "      <th>1</th>\n",
       "      <td>106.025</td>\n",
       "      <td>6645</td>\n",
       "      <td>483</td>\n",
       "      <td>3</td>\n",
       "      <td>82</td>\n",
       "      <td>15</td>\n",
       "      <td>0</td>\n",
       "      <td>1</td>\n",
       "      <td>1</td>\n",
       "      <td>1</td>\n",
       "      <td>903</td>\n",
       "    </tr>\n",
       "    <tr>\n",
       "      <th>2</th>\n",
       "      <td>104.593</td>\n",
       "      <td>7075</td>\n",
       "      <td>514</td>\n",
       "      <td>4</td>\n",
       "      <td>71</td>\n",
       "      <td>11</td>\n",
       "      <td>1</td>\n",
       "      <td>0</td>\n",
       "      <td>0</td>\n",
       "      <td>1</td>\n",
       "      <td>580</td>\n",
       "    </tr>\n",
       "    <tr>\n",
       "      <th>3</th>\n",
       "      <td>148.924</td>\n",
       "      <td>9504</td>\n",
       "      <td>681</td>\n",
       "      <td>3</td>\n",
       "      <td>36</td>\n",
       "      <td>11</td>\n",
       "      <td>0</td>\n",
       "      <td>0</td>\n",
       "      <td>0</td>\n",
       "      <td>1</td>\n",
       "      <td>964</td>\n",
       "    </tr>\n",
       "    <tr>\n",
       "      <th>4</th>\n",
       "      <td>55.882</td>\n",
       "      <td>4897</td>\n",
       "      <td>357</td>\n",
       "      <td>2</td>\n",
       "      <td>68</td>\n",
       "      <td>16</td>\n",
       "      <td>1</td>\n",
       "      <td>0</td>\n",
       "      <td>1</td>\n",
       "      <td>0</td>\n",
       "      <td>331</td>\n",
       "    </tr>\n",
       "    <tr>\n",
       "      <th>...</th>\n",
       "      <td>...</td>\n",
       "      <td>...</td>\n",
       "      <td>...</td>\n",
       "      <td>...</td>\n",
       "      <td>...</td>\n",
       "      <td>...</td>\n",
       "      <td>...</td>\n",
       "      <td>...</td>\n",
       "      <td>...</td>\n",
       "      <td>...</td>\n",
       "      <td>...</td>\n",
       "    </tr>\n",
       "    <tr>\n",
       "      <th>395</th>\n",
       "      <td>12.096</td>\n",
       "      <td>4100</td>\n",
       "      <td>307</td>\n",
       "      <td>3</td>\n",
       "      <td>32</td>\n",
       "      <td>13</td>\n",
       "      <td>1</td>\n",
       "      <td>0</td>\n",
       "      <td>1</td>\n",
       "      <td>0</td>\n",
       "      <td>560</td>\n",
       "    </tr>\n",
       "    <tr>\n",
       "      <th>396</th>\n",
       "      <td>13.364</td>\n",
       "      <td>3838</td>\n",
       "      <td>296</td>\n",
       "      <td>5</td>\n",
       "      <td>65</td>\n",
       "      <td>17</td>\n",
       "      <td>1</td>\n",
       "      <td>0</td>\n",
       "      <td>0</td>\n",
       "      <td>2</td>\n",
       "      <td>480</td>\n",
       "    </tr>\n",
       "    <tr>\n",
       "      <th>397</th>\n",
       "      <td>57.872</td>\n",
       "      <td>4171</td>\n",
       "      <td>321</td>\n",
       "      <td>5</td>\n",
       "      <td>67</td>\n",
       "      <td>12</td>\n",
       "      <td>0</td>\n",
       "      <td>0</td>\n",
       "      <td>1</td>\n",
       "      <td>0</td>\n",
       "      <td>138</td>\n",
       "    </tr>\n",
       "    <tr>\n",
       "      <th>398</th>\n",
       "      <td>37.728</td>\n",
       "      <td>2525</td>\n",
       "      <td>192</td>\n",
       "      <td>1</td>\n",
       "      <td>44</td>\n",
       "      <td>13</td>\n",
       "      <td>1</td>\n",
       "      <td>0</td>\n",
       "      <td>1</td>\n",
       "      <td>0</td>\n",
       "      <td>0</td>\n",
       "    </tr>\n",
       "    <tr>\n",
       "      <th>399</th>\n",
       "      <td>18.701</td>\n",
       "      <td>5524</td>\n",
       "      <td>415</td>\n",
       "      <td>5</td>\n",
       "      <td>64</td>\n",
       "      <td>7</td>\n",
       "      <td>0</td>\n",
       "      <td>0</td>\n",
       "      <td>0</td>\n",
       "      <td>1</td>\n",
       "      <td>966</td>\n",
       "    </tr>\n",
       "  </tbody>\n",
       "</table>\n",
       "<p>400 rows × 11 columns</p>\n",
       "</div>"
      ],
      "text/plain": [
       "       Renda  Limite  Rating  Cartoes  Idade  Educacao  Sexo  Estudante  \\\n",
       "0     14.891    3606     283        2     34        11     1          0   \n",
       "1    106.025    6645     483        3     82        15     0          1   \n",
       "2    104.593    7075     514        4     71        11     1          0   \n",
       "3    148.924    9504     681        3     36        11     0          0   \n",
       "4     55.882    4897     357        2     68        16     1          0   \n",
       "..       ...     ...     ...      ...    ...       ...   ...        ...   \n",
       "395   12.096    4100     307        3     32        13     1          0   \n",
       "396   13.364    3838     296        5     65        17     1          0   \n",
       "397   57.872    4171     321        5     67        12     0          0   \n",
       "398   37.728    2525     192        1     44        13     1          0   \n",
       "399   18.701    5524     415        5     64         7     0          0   \n",
       "\n",
       "     Casado  Etnia  Gasto Mensal  \n",
       "0         1      0           333  \n",
       "1         1      1           903  \n",
       "2         0      1           580  \n",
       "3         0      1           964  \n",
       "4         1      0           331  \n",
       "..      ...    ...           ...  \n",
       "395       1      0           560  \n",
       "396       0      2           480  \n",
       "397       1      0           138  \n",
       "398       1      0             0  \n",
       "399       0      1           966  \n",
       "\n",
       "[400 rows x 11 columns]"
      ]
     },
     "metadata": {},
     "output_type": "display_data"
    }
   ],
   "source": [
    "display(dados)"
   ]
  },
  {
   "cell_type": "markdown",
   "id": "db6a78d4",
   "metadata": {},
   "source": [
    "### DataFrame para Classificação"
   ]
  },
  {
   "cell_type": "code",
   "execution_count": 173,
   "id": "09103ead",
   "metadata": {
    "scrolled": true
   },
   "outputs": [
    {
     "data": {
      "text/html": [
       "<div>\n",
       "<style scoped>\n",
       "    .dataframe tbody tr th:only-of-type {\n",
       "        vertical-align: middle;\n",
       "    }\n",
       "\n",
       "    .dataframe tbody tr th {\n",
       "        vertical-align: top;\n",
       "    }\n",
       "\n",
       "    .dataframe thead th {\n",
       "        text-align: right;\n",
       "    }\n",
       "</style>\n",
       "<table border=\"1\" class=\"dataframe\">\n",
       "  <thead>\n",
       "    <tr style=\"text-align: right;\">\n",
       "      <th></th>\n",
       "      <th>Renda</th>\n",
       "      <th>Limite</th>\n",
       "      <th>Rating</th>\n",
       "      <th>Cartoes</th>\n",
       "      <th>Idade</th>\n",
       "      <th>Educacao</th>\n",
       "      <th>Sexo</th>\n",
       "      <th>Estudante</th>\n",
       "      <th>Casado</th>\n",
       "      <th>Etnia</th>\n",
       "      <th>Gasto Mensal</th>\n",
       "    </tr>\n",
       "  </thead>\n",
       "  <tbody>\n",
       "    <tr>\n",
       "      <th>0</th>\n",
       "      <td>14.891</td>\n",
       "      <td>3606</td>\n",
       "      <td>283</td>\n",
       "      <td>2</td>\n",
       "      <td>34</td>\n",
       "      <td>11</td>\n",
       "      <td>1</td>\n",
       "      <td>0</td>\n",
       "      <td>1</td>\n",
       "      <td>0</td>\n",
       "      <td>gastou</td>\n",
       "    </tr>\n",
       "    <tr>\n",
       "      <th>1</th>\n",
       "      <td>106.025</td>\n",
       "      <td>6645</td>\n",
       "      <td>483</td>\n",
       "      <td>3</td>\n",
       "      <td>82</td>\n",
       "      <td>15</td>\n",
       "      <td>0</td>\n",
       "      <td>1</td>\n",
       "      <td>1</td>\n",
       "      <td>1</td>\n",
       "      <td>gastou</td>\n",
       "    </tr>\n",
       "    <tr>\n",
       "      <th>2</th>\n",
       "      <td>104.593</td>\n",
       "      <td>7075</td>\n",
       "      <td>514</td>\n",
       "      <td>4</td>\n",
       "      <td>71</td>\n",
       "      <td>11</td>\n",
       "      <td>1</td>\n",
       "      <td>0</td>\n",
       "      <td>0</td>\n",
       "      <td>1</td>\n",
       "      <td>gastou</td>\n",
       "    </tr>\n",
       "    <tr>\n",
       "      <th>3</th>\n",
       "      <td>148.924</td>\n",
       "      <td>9504</td>\n",
       "      <td>681</td>\n",
       "      <td>3</td>\n",
       "      <td>36</td>\n",
       "      <td>11</td>\n",
       "      <td>0</td>\n",
       "      <td>0</td>\n",
       "      <td>0</td>\n",
       "      <td>1</td>\n",
       "      <td>gastou</td>\n",
       "    </tr>\n",
       "    <tr>\n",
       "      <th>4</th>\n",
       "      <td>55.882</td>\n",
       "      <td>4897</td>\n",
       "      <td>357</td>\n",
       "      <td>2</td>\n",
       "      <td>68</td>\n",
       "      <td>16</td>\n",
       "      <td>1</td>\n",
       "      <td>0</td>\n",
       "      <td>1</td>\n",
       "      <td>0</td>\n",
       "      <td>gastou</td>\n",
       "    </tr>\n",
       "    <tr>\n",
       "      <th>...</th>\n",
       "      <td>...</td>\n",
       "      <td>...</td>\n",
       "      <td>...</td>\n",
       "      <td>...</td>\n",
       "      <td>...</td>\n",
       "      <td>...</td>\n",
       "      <td>...</td>\n",
       "      <td>...</td>\n",
       "      <td>...</td>\n",
       "      <td>...</td>\n",
       "      <td>...</td>\n",
       "    </tr>\n",
       "    <tr>\n",
       "      <th>395</th>\n",
       "      <td>12.096</td>\n",
       "      <td>4100</td>\n",
       "      <td>307</td>\n",
       "      <td>3</td>\n",
       "      <td>32</td>\n",
       "      <td>13</td>\n",
       "      <td>1</td>\n",
       "      <td>0</td>\n",
       "      <td>1</td>\n",
       "      <td>0</td>\n",
       "      <td>gastou</td>\n",
       "    </tr>\n",
       "    <tr>\n",
       "      <th>396</th>\n",
       "      <td>13.364</td>\n",
       "      <td>3838</td>\n",
       "      <td>296</td>\n",
       "      <td>5</td>\n",
       "      <td>65</td>\n",
       "      <td>17</td>\n",
       "      <td>1</td>\n",
       "      <td>0</td>\n",
       "      <td>0</td>\n",
       "      <td>2</td>\n",
       "      <td>gastou</td>\n",
       "    </tr>\n",
       "    <tr>\n",
       "      <th>397</th>\n",
       "      <td>57.872</td>\n",
       "      <td>4171</td>\n",
       "      <td>321</td>\n",
       "      <td>5</td>\n",
       "      <td>67</td>\n",
       "      <td>12</td>\n",
       "      <td>0</td>\n",
       "      <td>0</td>\n",
       "      <td>1</td>\n",
       "      <td>0</td>\n",
       "      <td>gastou</td>\n",
       "    </tr>\n",
       "    <tr>\n",
       "      <th>398</th>\n",
       "      <td>37.728</td>\n",
       "      <td>2525</td>\n",
       "      <td>192</td>\n",
       "      <td>1</td>\n",
       "      <td>44</td>\n",
       "      <td>13</td>\n",
       "      <td>1</td>\n",
       "      <td>0</td>\n",
       "      <td>1</td>\n",
       "      <td>0</td>\n",
       "      <td>não gastou</td>\n",
       "    </tr>\n",
       "    <tr>\n",
       "      <th>399</th>\n",
       "      <td>18.701</td>\n",
       "      <td>5524</td>\n",
       "      <td>415</td>\n",
       "      <td>5</td>\n",
       "      <td>64</td>\n",
       "      <td>7</td>\n",
       "      <td>0</td>\n",
       "      <td>0</td>\n",
       "      <td>0</td>\n",
       "      <td>1</td>\n",
       "      <td>gastou</td>\n",
       "    </tr>\n",
       "  </tbody>\n",
       "</table>\n",
       "<p>400 rows × 11 columns</p>\n",
       "</div>"
      ],
      "text/plain": [
       "       Renda  Limite  Rating  Cartoes  Idade  Educacao  Sexo  Estudante  \\\n",
       "0     14.891    3606     283        2     34        11     1          0   \n",
       "1    106.025    6645     483        3     82        15     0          1   \n",
       "2    104.593    7075     514        4     71        11     1          0   \n",
       "3    148.924    9504     681        3     36        11     0          0   \n",
       "4     55.882    4897     357        2     68        16     1          0   \n",
       "..       ...     ...     ...      ...    ...       ...   ...        ...   \n",
       "395   12.096    4100     307        3     32        13     1          0   \n",
       "396   13.364    3838     296        5     65        17     1          0   \n",
       "397   57.872    4171     321        5     67        12     0          0   \n",
       "398   37.728    2525     192        1     44        13     1          0   \n",
       "399   18.701    5524     415        5     64         7     0          0   \n",
       "\n",
       "     Casado  Etnia Gasto Mensal  \n",
       "0         1      0       gastou  \n",
       "1         1      1       gastou  \n",
       "2         0      1       gastou  \n",
       "3         0      1       gastou  \n",
       "4         1      0       gastou  \n",
       "..      ...    ...          ...  \n",
       "395       1      0       gastou  \n",
       "396       0      2       gastou  \n",
       "397       1      0       gastou  \n",
       "398       1      0   não gastou  \n",
       "399       0      1       gastou  \n",
       "\n",
       "[400 rows x 11 columns]"
      ]
     },
     "metadata": {},
     "output_type": "display_data"
    }
   ],
   "source": [
    "dados_classificacao = pd.read_excel('CCARDBALANCE.xlsx')\n",
    "dados_classificacao = dados_classificacao.drop('ID',axis = 1)\n",
    "dados_classificacao.loc[dados['Gasto Mensal'] > 0, 'Gasto Mensal'] = 'gastou'\n",
    "dados_classificacao.loc[dados['Gasto Mensal'] == 0, 'Gasto Mensal'] = 'não gastou'\n",
    "dados_classificacao['Estudante'] = dados['Estudante'].replace({'Yes': 1, 'No': 0})\n",
    "dados_classificacao['Casado'] = dados['Casado'].replace({'Yes': 1, 'No': 0})\n",
    "dados_classificacao['Etnia'] = dados['Etnia'].replace({'Caucasian': 0, 'Asian': 1,'African American' : 2})\n",
    "dados_classificacao['Sexo'] = dados['Sexo'].replace({' Male':1,'Female':0})\n",
    "display(dados_classificacao)"
   ]
  },
  {
   "cell_type": "markdown",
   "id": "53cd76f3",
   "metadata": {},
   "source": [
    "### Classificação"
   ]
  },
  {
   "cell_type": "code",
   "execution_count": 146,
   "id": "de5e0a22",
   "metadata": {},
   "outputs": [],
   "source": [
    "X = dados_classificacao.drop('Gasto Mensal', axis = 1)\n",
    "y = dados_classificacao['Gasto Mensal']\n",
    "X_train, X_test, y_train, y_test = train_test_split(X,y, test_size=0.25, random_state=0)\n",
    "modelo = DecisionTreeClassifier(criterion = 'gini',max_depth= 5)\n",
    "modelo.fit(X_train,y_train)\n",
    "y_pred = modelo.predict(X_test)"
   ]
  },
  {
   "cell_type": "code",
   "execution_count": 147,
   "id": "06366a20",
   "metadata": {},
   "outputs": [
    {
     "data": {
      "text/plain": [
       "Index(['Renda', 'Limite', 'Rating', 'Cartoes', 'Idade', 'Educacao', 'Sexo',\n",
       "       'Estudante', 'Casado', 'Etnia'],\n",
       "      dtype='object')"
      ]
     },
     "execution_count": 147,
     "metadata": {},
     "output_type": "execute_result"
    }
   ],
   "source": [
    "X.columns"
   ]
  },
  {
   "cell_type": "code",
   "execution_count": 148,
   "id": "83492c98",
   "metadata": {
    "scrolled": true
   },
   "outputs": [],
   "source": [
    "f_names = X.columns\n",
    "c_name = y"
   ]
  },
  {
   "cell_type": "markdown",
   "id": "188bbca0",
   "metadata": {},
   "source": [
    "### Árvore de Classificação"
   ]
  },
  {
   "cell_type": "code",
   "execution_count": 149,
   "id": "2075e417",
   "metadata": {},
   "outputs": [
    {
     "name": "stdout",
     "output_type": "stream",
     "text": [
      "Número de Folhas:  12\n",
      "Profundidade:  5\n"
     ]
    },
    {
     "data": {
      "image/png": "[encoded data removed]",
      "text/plain": [
       "<Figure size 1100x700 with 1 Axes>"
      ]
     },
     "metadata": {},
     "output_type": "display_data"
    }
   ],
   "source": [
    "#Numero de folhas\n",
    "print(\"Número de Folhas: \", modelo.get_n_leaves())\n",
    "\n",
    "#Profundidade\n",
    "print(\"Profundidade: \",modelo.get_depth())\n",
    "plt.figure( figsize=(11,7),dpi=100)\n",
    "plot_tree(modelo,feature_names= f_names, class_names= c_name,filled=True, rounded=True,fontsize=5.0)\n",
    "plt.show()"
   ]
  },
  {
   "cell_type": "markdown",
   "id": "dd6163c1",
   "metadata": {},
   "source": [
    "### Estatísticas de importância para o modelo"
   ]
  },
  {
   "cell_type": "code",
   "execution_count": 163,
   "id": "3c2bd800",
   "metadata": {
    "scrolled": true
   },
   "outputs": [
    {
     "name": "stdout",
     "output_type": "stream",
     "text": [
      "Renda 0.08050252634262603\n",
      "Limite 0.249782792373278\n",
      "Rating 0.591551791348681\n",
      "Cartoes 0.002900493623149082\n",
      "Idade 0.008298050649935452\n",
      "Educacao 0.0035324886415530163\n",
      "Sexo 0.0007984668875394991\n",
      "Estudante 0.05854679203477525\n",
      "Casado 0.002077494706687417\n",
      "Etnia 0.0020091033917752532\n",
      "Acurácia Treino:  0.9912457747169343\n",
      "Acurácia Teste:  0.9595058967099698\n"
     ]
    }
   ],
   "source": [
    "# Importância das características\n",
    "importancias = modelo.feature_importances_\n",
    "nomes_features = X.columns\n",
    "\n",
    "# Imprimir importância das características\n",
    "for feature, importancia in zip(nomes_features, importancias):\n",
    "    print(feature, importancia)\n",
    "print(\"Acurácia Treino: \", modelo.score(X_train, y_train))\n",
    "print(\"Acurácia Teste: \", modelo.score(X_test, y_test))\n"
   ]
  },
  {
   "cell_type": "code",
   "execution_count": 151,
   "id": "e27f1421",
   "metadata": {},
   "outputs": [
    {
     "data": {
      "text/html": [
       "<div>\n",
       "<style scoped>\n",
       "    .dataframe tbody tr th:only-of-type {\n",
       "        vertical-align: middle;\n",
       "    }\n",
       "\n",
       "    .dataframe tbody tr th {\n",
       "        vertical-align: top;\n",
       "    }\n",
       "\n",
       "    .dataframe thead th {\n",
       "        text-align: right;\n",
       "    }\n",
       "</style>\n",
       "<table border=\"1\" class=\"dataframe\">\n",
       "  <thead>\n",
       "    <tr style=\"text-align: right;\">\n",
       "      <th></th>\n",
       "      <th>Renda</th>\n",
       "      <th>Limite</th>\n",
       "      <th>Rating</th>\n",
       "      <th>Cartoes</th>\n",
       "      <th>Idade</th>\n",
       "      <th>Educacao</th>\n",
       "      <th>Sexo</th>\n",
       "      <th>Estudante</th>\n",
       "      <th>Casado</th>\n",
       "      <th>Etnia</th>\n",
       "    </tr>\n",
       "  </thead>\n",
       "  <tbody>\n",
       "    <tr>\n",
       "      <th>0</th>\n",
       "      <td>60000</td>\n",
       "      <td>4200</td>\n",
       "      <td>650</td>\n",
       "      <td>2</td>\n",
       "      <td>20</td>\n",
       "      <td>10</td>\n",
       "      <td>1</td>\n",
       "      <td>1</td>\n",
       "      <td>0</td>\n",
       "      <td>1</td>\n",
       "    </tr>\n",
       "  </tbody>\n",
       "</table>\n",
       "</div>"
      ],
      "text/plain": [
       "   Renda  Limite  Rating  Cartoes  Idade  Educacao  Sexo  Estudante  Casado  \\\n",
       "0  60000    4200     650        2     20        10     1          1       0   \n",
       "\n",
       "   Etnia  \n",
       "0      1  "
      ]
     },
     "metadata": {},
     "output_type": "display_data"
    },
    {
     "name": "stdout",
     "output_type": "stream",
     "text": [
      "['gas']\n"
     ]
    }
   ],
   "source": [
    "teste = {'Renda': 60000 ,'Limite':4200,'Rating':650,'Cartoes':2\n",
    "         ,'Idade':20,'Educacao':10,'Sexo':1,'Estudante':1,'Casado':0,'Etnia':1}\n",
    "teste_df = pd.DataFrame(data = teste, index=[0])\n",
    "display(teste_df)\n",
    "previsao = modelo.predict(teste_df)\n",
    "print(previsao)"
   ]
  },
  {
   "cell_type": "markdown",
   "id": "84418c7b",
   "metadata": {},
   "source": [
    "### Regressão"
   ]
  },
  {
   "cell_type": "code",
   "execution_count": 164,
   "id": "3e781c02",
   "metadata": {},
   "outputs": [],
   "source": [
    "X = dados.drop('Gasto Mensal', axis = 1)\n",
    "y = dados['Gasto Mensal']\n",
    "X_train, X_test, y_train, y_test = train_test_split(X,y, test_size=0.25, random_state=0)\n",
    "modelo = DecisionTreeRegressor(criterion = 'squared_error',max_depth= 4)\n",
    "modelo.fit(X_train,y_train)\n",
    "y_pred = modelo.predict(X_test)"
   ]
  },
  {
   "cell_type": "markdown",
   "id": "18c4c764",
   "metadata": {},
   "source": [
    "### Margem de erro"
   ]
  },
  {
   "cell_type": "code",
   "execution_count": 153,
   "id": "d257f60d",
   "metadata": {
    "scrolled": false
   },
   "outputs": [
    {
     "name": "stdout",
     "output_type": "stream",
     "text": [
      "RMSE: 178.86935608809264\n"
     ]
    }
   ],
   "source": [
    "rmse = mean_squared_error(y_test, y_pred, squared=False)\n",
    "print('RMSE:', rmse)"
   ]
  },
  {
   "cell_type": "code",
   "execution_count": 167,
   "id": "875f2e39",
   "metadata": {},
   "outputs": [
    {
     "name": "stdout",
     "output_type": "stream",
     "text": [
      "Número de Folhas:  16\n",
      "Profundidade:  4\n"
     ]
    },
    {
     "data": {
      "image/png": "[encoded data removed]",
      "text/plain": [
       "<Figure size 1200x400 with 1 Axes>"
      ]
     },
     "metadata": {},
     "output_type": "display_data"
    }
   ],
   "source": [
    "#Numero de folhas\n",
    "print(\"Número de Folhas: \", modelo.get_n_leaves())\n",
    "\n",
    "#Profundidade\n",
    "print(\"Profundidade: \",modelo.get_depth())\n",
    "plt.figure( figsize=(12,4),dpi=100)\n",
    "plot_tree(modelo,feature_names= f_names, class_names= c_name,filled=True, rounded=True,fontsize=5.0)\n",
    "plt.show()"
   ]
  },
  {
   "cell_type": "markdown",
   "id": "26fd2ab3",
   "metadata": {},
   "source": [
    "# Teste"
   ]
  },
  {
   "cell_type": "code",
   "execution_count": 155,
   "id": "d421f098",
   "metadata": {
    "scrolled": true
   },
   "outputs": [
    {
     "data": {
      "text/html": [
       "<div>\n",
       "<style scoped>\n",
       "    .dataframe tbody tr th:only-of-type {\n",
       "        vertical-align: middle;\n",
       "    }\n",
       "\n",
       "    .dataframe tbody tr th {\n",
       "        vertical-align: top;\n",
       "    }\n",
       "\n",
       "    .dataframe thead th {\n",
       "        text-align: right;\n",
       "    }\n",
       "</style>\n",
       "<table border=\"1\" class=\"dataframe\">\n",
       "  <thead>\n",
       "    <tr style=\"text-align: right;\">\n",
       "      <th></th>\n",
       "      <th>Renda</th>\n",
       "      <th>Limite</th>\n",
       "      <th>Rating</th>\n",
       "      <th>Cartoes</th>\n",
       "      <th>Idade</th>\n",
       "      <th>Educacao</th>\n",
       "      <th>Sexo</th>\n",
       "      <th>Estudante</th>\n",
       "      <th>Casado</th>\n",
       "      <th>Etnia</th>\n",
       "    </tr>\n",
       "  </thead>\n",
       "  <tbody>\n",
       "    <tr>\n",
       "      <th>0</th>\n",
       "      <td>60000</td>\n",
       "      <td>4200</td>\n",
       "      <td>650</td>\n",
       "      <td>2</td>\n",
       "      <td>20</td>\n",
       "      <td>10</td>\n",
       "      <td>1</td>\n",
       "      <td>1</td>\n",
       "      <td>0</td>\n",
       "      <td>1</td>\n",
       "    </tr>\n",
       "  </tbody>\n",
       "</table>\n",
       "</div>"
      ],
      "text/plain": [
       "   Renda  Limite  Rating  Cartoes  Idade  Educacao  Sexo  Estudante  Casado  \\\n",
       "0  60000    4200     650        2     20        10     1          1       0   \n",
       "\n",
       "   Etnia  \n",
       "0      1  "
      ]
     },
     "metadata": {},
     "output_type": "display_data"
    },
    {
     "name": "stdout",
     "output_type": "stream",
     "text": [
      "[352.33333333]\n"
     ]
    }
   ],
   "source": [
    "teste = {'Renda': 60000 ,'Limite':4200,'Rating':650,'Cartoes':2\n",
    "         ,'Idade':20,'Educacao':10,'Sexo':1,'Estudante':1,'Casado':0,'Etnia':1}\n",
    "teste_df = pd.DataFrame(data = teste, index=[0])\n",
    "display(teste_df)\n",
    "previsao = modelo.predict(teste_df)\n",
    "print(previsao)"
   ]
  },
  {
   "cell_type": "markdown",
   "id": "6022b131",
   "metadata": {},
   "source": [
    "### Quão importante é cada característica para o quanto de gasto mensal a pessoa vai ter."
   ]
  },
  {
   "cell_type": "code",
   "execution_count": 156,
   "id": "89c6d78e",
   "metadata": {
    "scrolled": false
   },
   "outputs": [
    {
     "name": "stdout",
     "output_type": "stream",
     "text": [
      "Renda 0.047732700422669506\n",
      "Limite 0.06088666888266007\n",
      "Rating 0.8477403408862515\n",
      "Cartoes 0.0\n",
      "Idade 0.0004933096727144864\n",
      "Educacao 0.0\n",
      "Sexo 0.0\n",
      "Estudante 0.04314698013570441\n",
      "Casado 0.0\n",
      "Etnia 0.0\n",
      "Acurácia Treino:  0.8785096985525083\n",
      "Acurácia Teste:  0.8361789365593075\n"
     ]
    }
   ],
   "source": [
    "# Importância das características\n",
    "importancias = modelo.feature_importances_\n",
    "nomes_features = X.columns\n",
    "\n",
    "# Imprimir importância das características\n",
    "for feature, importancia in zip(nomes_features, importancias):\n",
    "    print(feature, importancia)\n",
    "print(\"Acurácia Treino: \", modelo.score(X_train, y_train))\n",
    "print(\"Acurácia Teste: \", modelo.score(X_test, y_test))"
   ]
  },
  {
   "cell_type": "markdown",
   "id": "1bf6b613",
   "metadata": {},
   "source": [
    "### Utilizando RandomForest"
   ]
  },
  {
   "cell_type": "code",
   "execution_count": 168,
   "id": "7903d872",
   "metadata": {},
   "outputs": [],
   "source": [
    "X_train, X_test, y_train, y_test = train_test_split(X,y,test_size=0.25, random_state=0)\n",
    "modelo = RandomForestRegressor()\n",
    "modelo.fit(X_train,y_train)\n",
    "y_pred = modelo.predict(X_test)"
   ]
  },
  {
   "cell_type": "code",
   "execution_count": 170,
   "id": "408dd30e",
   "metadata": {},
   "outputs": [
    {
     "data": {
      "text/html": [
       "<div>\n",
       "<style scoped>\n",
       "    .dataframe tbody tr th:only-of-type {\n",
       "        vertical-align: middle;\n",
       "    }\n",
       "\n",
       "    .dataframe tbody tr th {\n",
       "        vertical-align: top;\n",
       "    }\n",
       "\n",
       "    .dataframe thead th {\n",
       "        text-align: right;\n",
       "    }\n",
       "</style>\n",
       "<table border=\"1\" class=\"dataframe\">\n",
       "  <thead>\n",
       "    <tr style=\"text-align: right;\">\n",
       "      <th></th>\n",
       "      <th>Renda</th>\n",
       "      <th>Limite</th>\n",
       "      <th>Rating</th>\n",
       "      <th>Cartoes</th>\n",
       "      <th>Idade</th>\n",
       "      <th>Educacao</th>\n",
       "      <th>Sexo</th>\n",
       "      <th>Estudante</th>\n",
       "      <th>Casado</th>\n",
       "      <th>Etnia</th>\n",
       "    </tr>\n",
       "  </thead>\n",
       "  <tbody>\n",
       "    <tr>\n",
       "      <th>0</th>\n",
       "      <td>60000</td>\n",
       "      <td>4200</td>\n",
       "      <td>650</td>\n",
       "      <td>2</td>\n",
       "      <td>20</td>\n",
       "      <td>10</td>\n",
       "      <td>1</td>\n",
       "      <td>1</td>\n",
       "      <td>0</td>\n",
       "      <td>1</td>\n",
       "    </tr>\n",
       "  </tbody>\n",
       "</table>\n",
       "</div>"
      ],
      "text/plain": [
       "   Renda  Limite  Rating  Cartoes  Idade  Educacao  Sexo  Estudante  Casado  \\\n",
       "0  60000    4200     650        2     20        10     1          1       0   \n",
       "\n",
       "   Etnia  \n",
       "0      1  "
      ]
     },
     "metadata": {},
     "output_type": "display_data"
    },
    {
     "name": "stdout",
     "output_type": "stream",
     "text": [
      "[740.24]\n"
     ]
    }
   ],
   "source": [
    "teste = {'Renda': 60000 ,'Limite':4200,'Rating':650,'Cartoes':2\n",
    "         ,'Idade':20,'Educacao':10,'Sexo':1,'Estudante':1,'Casado':0,'Etnia':1}\n",
    "teste_df = pd.DataFrame(data = teste, index=[0])\n",
    "display(teste_df)\n",
    "previsao = modelo.predict(teste_df)\n",
    "print(previsao)"
   ]
  },
  {
   "cell_type": "markdown",
   "id": "6783ac4e",
   "metadata": {},
   "source": [
    "### R^2 menor, eu tambem não sei porque"
   ]
  },
  {
   "cell_type": "code",
   "execution_count": 171,
   "id": "62551936",
   "metadata": {
    "scrolled": false
   },
   "outputs": [
    {
     "name": "stdout",
     "output_type": "stream",
     "text": [
      "RMSE: 84.89005449403365\n"
     ]
    }
   ],
   "source": [
    "rmse = mean_squared_error(y_test, y_pred, squared=False)\n",
    "print('RMSE:', rmse)"
   ]
  },
  {
   "cell_type": "markdown",
   "id": "79599aee",
   "metadata": {},
   "source": [
    "### Features do RandomForest são mais aprimoradas e a acurácia esta bem mais alta."
   ]
  },
  {
   "cell_type": "code",
   "execution_count": 172,
   "id": "fb143669",
   "metadata": {
    "scrolled": false
   },
   "outputs": [
    {
     "name": "stdout",
     "output_type": "stream",
     "text": [
      "Renda 0.07886694638722518\n",
      "Limite 0.32442983149437593\n",
      "Rating 0.5232242740063858\n",
      "Cartoes 0.0033951331234892295\n",
      "Idade 0.0074091726576795075\n",
      "Educacao 0.004309622293632282\n",
      "Sexo 0.0006951449699760313\n",
      "Estudante 0.05408979273390081\n",
      "Casado 0.0015974421047795766\n",
      "Etnia 0.001982640228555653\n",
      "Acurácia Treino:  0.9927372544936338\n",
      "Acurácia Teste:  0.9631012649217365\n"
     ]
    }
   ],
   "source": [
    "# Importância das características\n",
    "importancias = modelo.feature_importances_\n",
    "nomes_features = X.columns\n",
    "\n",
    "# Imprimir importância das características\n",
    "for feature, importancia in zip(nomes_features, importancias):\n",
    "    print(feature, importancia)\n",
    "print(\"Acurácia Treino: \", modelo.score(X_train, y_train))\n",
    "print(\"Acurácia Teste: \", modelo.score(X_test, y_test))"
   ]
  }
 ],
 "metadata": {
  "kernelspec": {
   "display_name": "Python 3 (ipykernel)",
   "language": "python",
   "name": "python3"
  },
  "language_info": {
   "codemirror_mode": {
    "name": "ipython",
    "version": 3
   },
   "file_extension": ".py",
   "mimetype": "text/x-python",
   "name": "python",
   "nbconvert_exporter": "python",
   "pygments_lexer": "ipython3",
   "version": "3.10.9"
  }
 },
 "nbformat": 4,
 "nbformat_minor": 5
}
